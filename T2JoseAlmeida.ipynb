{
 "cells": [
  {
   "cell_type": "markdown",
   "metadata": {},
   "source": [
    "# TAREA 2[](https://aptonic.com/blog/wp-content/uploads/2015/08/python-logo.png)\n",
    "\n",
    "## [Spotlight: Why Python Training Is Totally Worth It](http://anewdomain.net/spotlight-should-you-invest-in-python-training/)\n",
    "\n",
    "El tema principal que se trata en este articulo es en poner en comparación al lenguaje d eprogramación _Python_ con los demás diciendo que es uno de los pocos lenguajes sino que el único en el que vale la pena invertir nuestro tiempo para dominarlo.\n",
    "Resaltando su practicidad y funcionalidad, ya que puede ser utilizado para elaborar desde las tareas más básicas que tiene la programación hasta las labores más complejas. Otra de las ventajas que tienne este leguaje es la gran variedad de bibliotecas de contenido que se pueden encontrar en la red, además es un lenguaje que es compatible con muchos sistemas de programación.\n",
    "\n",
    "La facilidad de aprender este lenguaje sin necesitar de un profesor es real, pero si buscas entrar más a fondo en _Python_ se recomienda que tomes cursos para poder llegar a exprimir el verdadero potencial de este sistema de programación para así poder liberar y saber aprovechar todo el potencial que _Python_ tiene para ofrecer.\n",
    "\n",
    "## [Programming language of the year? Python is standout in latest rankings](https://www.zdnet.com/article/programming-language-of-the-year-python-is-standout-in-latest-rankings/)\n",
    "\n",
    "Python se ha convertido en uno de los tres lenguajes de programación más populares a nivel mundial. \n",
    "\n",
    "Un programa creado en 1989 por Guido Van Rossum un programador de origen holandes. \n",
    "\n",
    "El exponencial crecimiento de Python se debe principalmente a que es el lenguaje que se enseña en la mayoría de las universidades y es el lenguaje más importante para el análisis computacional y estadistico y para la programación web.\n",
    "Un dato curioso es que tambien es el lenguaje más popular entre los hackers a nivel mundial y esto se debe a la numerosa cantidad de tutoriales que podemos encontrar en internet sobre esta lengua de la programación.\n",
    "\n",
    "Muchos expertos creen firmemente que no pasará mucho tiempo antes de que Python se convierta en el lenguaje de programación más utilizado a nivel mundial"
   ]
  },
  {
   "cell_type": "code",
   "execution_count": null,
   "metadata": {},
   "outputs": [],
   "source": []
  }
 ],
 "metadata": {
  "kernelspec": {
   "display_name": "Python 2",
   "language": "python",
   "name": "python2"
  },
  "language_info": {
   "codemirror_mode": {
    "name": "ipython",
    "version": 2
   },
   "file_extension": ".py",
   "mimetype": "text/x-python",
   "name": "python",
   "nbconvert_exporter": "python",
   "pygments_lexer": "ipython2",
   "version": "2.7.16"
  }
 },
 "nbformat": 4,
 "nbformat_minor": 2
}
